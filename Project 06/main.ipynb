{
 "cells": [
  {
   "cell_type": "code",
   "execution_count": 2,
   "id": "80d12416-2677-4f61-8457-cca118e5b8b4",
   "metadata": {},
   "outputs": [
    {
     "name": "stdout",
     "output_type": "stream",
     "text": [
      "DO you want to generate a password (Y/N) :  N\n"
     ]
    },
    {
     "name": "stdout",
     "output_type": "stream",
     "text": [
      "Okay, no problem. Have a great day!\n"
     ]
    }
   ],
   "source": [
    "# Ask user if they want to generate random passwords.\n",
    "# If yes, ask for password length\n",
    "# GEnerate password\n",
    "# Print password\n",
    "\n",
    "\n",
    "import string\n",
    "import random\n",
    "\n",
    "characters = list(string.ascii_letters + string.digits + \"!@#$%^&*&?/.,()\")\n",
    "\n",
    "def generate_password():\n",
    "    password_length = int(input(\"How long would you like your password to be? \"))\n",
    "\n",
    "    random.shuffle(characters)\n",
    "    password = []\n",
    "    for x in range(password_length):\n",
    "        password.append(random.choice(characters))\n",
    "\n",
    "    random.shuffle(password)\n",
    "    \n",
    "    password = \"\".join(password)\n",
    "    print(password)\n",
    "\n",
    "\n",
    "option = input(\"DO you want to generate a password (Y/N) : \")\n",
    "\n",
    "if option == \"Y\":\n",
    "    generate_password()\n",
    "\n",
    "elif option == \"N\":\n",
    "    print(\"Okay, no problem. Have a great day!\")\n",
    "    \n",
    "    \n",
    "\n",
    "else:\n",
    "    print(\"Invalid option. Please try again.\")\n",
    "    quit()"
   ]
  }
 ],
 "metadata": {
  "kernelspec": {
   "display_name": "Python 3 (ipykernel)",
   "language": "python",
   "name": "python3"
  },
  "language_info": {
   "codemirror_mode": {
    "name": "ipython",
    "version": 3
   },
   "file_extension": ".py",
   "mimetype": "text/x-python",
   "name": "python",
   "nbconvert_exporter": "python",
   "pygments_lexer": "ipython3",
   "version": "3.12.3"
  }
 },
 "nbformat": 4,
 "nbformat_minor": 5
}
