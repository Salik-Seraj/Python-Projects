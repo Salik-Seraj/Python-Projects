{
 "cells": [
  {
   "cell_type": "code",
   "execution_count": null,
   "id": "28e79119-48bc-4366-a899-eaca95fd2ad7",
   "metadata": {},
   "outputs": [],
   "source": [
    "# import urllib\n",
    "\n",
    "import urllib.request as urllib\n",
    "\n",
    "def main(url):\n",
    "    print(\"Checking for Site Connectivity ..\")\n",
    "\n",
    "    response = urllib.urlopen(url)\n",
    "    print(\"Connected to\", url, \"successfully\")\n",
    "    print(\"The response code was :\", response.getcode())\n",
    "\n",
    "\n",
    "print(\" This is a Site Connectivity Checker \")\n",
    "input_url = input(\"Enter the URL of the site : \")\n",
    "\n",
    "\n",
    "main(input_url)"
   ]
  }
 ],
 "metadata": {
  "kernelspec": {
   "display_name": "Python 3 (ipykernel)",
   "language": "python",
   "name": "python3"
  },
  "language_info": {
   "codemirror_mode": {
    "name": "ipython",
    "version": 3
   },
   "file_extension": ".py",
   "mimetype": "text/x-python",
   "name": "python",
   "nbconvert_exporter": "python",
   "pygments_lexer": "ipython3",
   "version": "3.12.3"
  }
 },
 "nbformat": 4,
 "nbformat_minor": 5
}
